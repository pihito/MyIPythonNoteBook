{
 "metadata": {
  "name": "Tutorial SQLALchemy"
 },
 "nbformat": 3,
 "nbformat_minor": 0,
 "worksheets": [
  {
   "cells": [
    {
     "cell_type": "markdown",
     "metadata": {},
     "source": "#Tutorial sqlalchemy\n\nle Notebook python ci-dessous presente le code minimal pour faire fonctionner SQLAchemy en mode ORM"
    },
    {
     "cell_type": "code",
     "collapsed": false,
     "input": "import sqlalchemy\nfrom sqlalchemy import Column, Integer, String,create_engine\nfrom sqlalchemy.ext.declarative import declared_attr\nfrom sqlalchemy.ext.declarative import declarative_base\nfrom sqlalchemy.orm import sessionmaker,session\nfrom sqlalchemy.exc import IntegrityError\nimport logging\n\nprint \"SqlAchemy version : \" + sqlalchemy.__version__\n\nlogging.basicConfig()\nlogging.getLogger('sqlalchemy.engine').setLevel(logging.INFO)\nlogging.getLogger('sqlalchemy.orm').setLevel(logging.INFO)\n",
     "language": "python",
     "metadata": {},
     "outputs": [
      {
       "output_type": "stream",
       "stream": "stdout",
       "text": "SqlAchemy version : 0.9.4\n"
      }
     ],
     "prompt_number": 1
    },
    {
     "cell_type": "markdown",
     "metadata": {},
     "source": "### declaration de la classe de base et d'une classe de donn\u00e9e\n\nDataObject repr\u00e9sente une classe de base qui normalise le nom de la table en fonction de la classe (et ce m\u00eame si cette classe est h\u00e9rit\u00e9) puis une colonne en primary key.    \nPuis on cr\u00e9e une classe deriv\u00e9 qui ne contient pas d'autre champs mais qui correspondra \u00e0 une table nomm\u00e9e zone (cette classe pourrait contenir d'autre champ).   \nNotez, que la fonction init de la classe de base met par d\u00e9faut la valeur de id \u00e0 *None* pour que la requ\u00eate g\u00e9n\u00e9rer ne tienne pas compte de cette colonne et permette l'auto-incr\u00e9ment du champs."
    },
    {
     "cell_type": "code",
     "collapsed": false,
     "input": "Base = declarative_base()\n\nclass DataObject(object):\n    '''classe de base avec une zone id et une zone de texte\n       base class with two field id and text'''\n    @declared_attr\n    def __tablename__(cls):\n        return cls.__name__.lower()\n    __table_args__ = {'sqlite_autoincrement': True}\n    id =  Column(Integer, primary_key=True)\n    text = Column(String(100))\n    \n    def __repr__(self):\n       return \"[DataObject(id='%s', text='%s')]\" % (\n                             self.id, self.text)\n\nclass Zone(DataObject, Base):\n    '''classe d\u00e9riv\u00e9e correspondant \u00e0 une table zone de deux champs ID et text\n       child class to create a table zone with the two fields come from base class (id & text)'''\n    def __init__(self,id=None,text=\"\") : \n        self.id=id\n        self.text = text\n    def __repr__(self):\n       return \"<Zone(\"+super(Zone,self).__repr__()+\")>\"\n\nzone = Zone()\n#affichage du nom de la table de la classe d\u00e9riv\u00e9e\nprint \"Nom de la table enfant : \" + zone.__tablename__\n",
     "language": "python",
     "metadata": {},
     "outputs": [
      {
       "output_type": "stream",
       "stream": "stderr",
       "text": "INFO:sqlalchemy.orm.mapper.Mapper:(Zone|zone) _configure_property(id, Column)\n"
      },
      {
       "output_type": "stream",
       "stream": "stderr",
       "text": "INFO:sqlalchemy.orm.mapper.Mapper:(Zone|zone) _configure_property(text, Column)\n"
      },
      {
       "output_type": "stream",
       "stream": "stderr",
       "text": "INFO:sqlalchemy.orm.mapper.Mapper:(Zone|zone) Identified primary key columns: ColumnSet([Column('id', Integer(), table=<zone>, primary_key=True, nullable=False)])\n"
      },
      {
       "output_type": "stream",
       "stream": "stderr",
       "text": "INFO:sqlalchemy.orm.mapper.Mapper:(Zone|zone) constructed\n"
      },
      {
       "output_type": "stream",
       "stream": "stderr",
       "text": "INFO:sqlalchemy.orm.mapper.Mapper:(Zone|zone) _post_configure_properties() started\n"
      },
      {
       "output_type": "stream",
       "stream": "stderr",
       "text": "INFO:sqlalchemy.orm.mapper.Mapper:(Zone|zone) initialize prop id\n"
      },
      {
       "output_type": "stream",
       "stream": "stderr",
       "text": "INFO:sqlalchemy.orm.mapper.Mapper:(Zone|zone) initialize prop text\n"
      },
      {
       "output_type": "stream",
       "stream": "stderr",
       "text": "INFO:sqlalchemy.orm.mapper.Mapper:(Zone|zone) _post_configure_properties() complete\n"
      },
      {
       "output_type": "stream",
       "stream": "stdout",
       "text": "Nom de la table enfant : zone\n"
      }
     ],
     "prompt_number": 2
    },
    {
     "cell_type": "markdown",
     "metadata": {},
     "source": "###ouverture de la DB et cr\u00e9ation du sch\u00e9ma\n\nUne fois nos classes cr\u00e9es, nous ouvrons la DB ( ici un sqlite en m\u00e9moire ) puis on lui demande de cr\u00e9er le sch\u00e9mas en fonction des classes de donn\u00e9es\n"
    },
    {
     "cell_type": "code",
     "collapsed": false,
     "input": "engine = create_engine('sqlite:///:memory:', echo=False)\nBase.metadata.create_all(engine) ",
     "language": "python",
     "metadata": {},
     "outputs": [
      {
       "output_type": "stream",
       "stream": "stderr",
       "text": "INFO:sqlalchemy.engine.base.Engine:SELECT CAST('test plain returns' AS VARCHAR(60)) AS anon_1\n"
      },
      {
       "output_type": "stream",
       "stream": "stderr",
       "text": "INFO:sqlalchemy.engine.base.Engine:()\n"
      },
      {
       "output_type": "stream",
       "stream": "stderr",
       "text": "INFO:sqlalchemy.engine.base.Engine:SELECT CAST('test unicode returns' AS VARCHAR(60)) AS anon_1\n"
      },
      {
       "output_type": "stream",
       "stream": "stderr",
       "text": "INFO:sqlalchemy.engine.base.Engine:()\n"
      },
      {
       "output_type": "stream",
       "stream": "stderr",
       "text": "INFO:sqlalchemy.engine.base.Engine:PRAGMA table_info(\"zone\")\n"
      },
      {
       "output_type": "stream",
       "stream": "stderr",
       "text": "INFO:sqlalchemy.engine.base.Engine:()\n"
      },
      {
       "output_type": "stream",
       "stream": "stderr",
       "text": "INFO:sqlalchemy.engine.base.Engine:\nCREATE TABLE zone (\n\tid INTEGER NOT NULL PRIMARY KEY AUTOINCREMENT, \n\ttext VARCHAR(100)\n)\n\n\n"
      },
      {
       "output_type": "stream",
       "stream": "stderr",
       "text": "INFO:sqlalchemy.engine.base.Engine:()\n"
      },
      {
       "output_type": "stream",
       "stream": "stderr",
       "text": "INFO:sqlalchemy.engine.base.Engine:COMMIT\n"
      }
     ],
     "prompt_number": 3
    },
    {
     "cell_type": "markdown",
     "metadata": {},
     "source": "### creation des objets et stokage dans la db\nOn instantie 3 objets Zones, puis on cr\u00e9e une session ([unit\u00e9 transactionnelle](http://fr.wikipedia.org/wiki/Session_(informatique)) ).    \nOn ins\u00e8re les objets dans la session et on valide la session pour inscrire dans la db   \nNotez que :     \n -    session.new nous montre les \u00e9l\u00e9ments \u00e0 inserer    \n -    lors du commit on capte les exceptions mais que dans tous les cas je ferme la session pour pouvoir continuer \u00e0 travailler.Je peux rappeler l'objet session car il s'ouvre automatiquement par d\u00e9faut."
    },
    {
     "cell_type": "code",
     "collapsed": false,
     "input": "z1 = Zone(text=\"salon\")\n\n\nSession = sessionmaker(bind=engine)\nsession = Session()\nsession.add(z1)\nsession.add_all([Zone(text=\"cuisine\"),Zone(text=\"chambre\")])\nprint \"===========================\"\nprint session.new\nprint \"===========================\"\ntry : \n    session.commit()\nexcept IntegrityError as e: \n    print e\nfinally : \n    session.close()\n",
     "language": "python",
     "metadata": {},
     "outputs": [
      {
       "output_type": "stream",
       "stream": "stderr",
       "text": "INFO:sqlalchemy.engine.base.Engine:BEGIN (implicit)\n"
      },
      {
       "output_type": "stream",
       "stream": "stderr",
       "text": "INFO:sqlalchemy.engine.base.Engine:INSERT INTO zone (text) VALUES (?)\n"
      },
      {
       "output_type": "stream",
       "stream": "stderr",
       "text": "INFO:sqlalchemy.engine.base.Engine:('salon',)\n"
      },
      {
       "output_type": "stream",
       "stream": "stderr",
       "text": "INFO:sqlalchemy.engine.base.Engine:INSERT INTO zone (text) VALUES (?)\n"
      },
      {
       "output_type": "stream",
       "stream": "stderr",
       "text": "INFO:sqlalchemy.engine.base.Engine:('cuisine',)\n"
      },
      {
       "output_type": "stream",
       "stream": "stderr",
       "text": "INFO:sqlalchemy.engine.base.Engine:INSERT INTO zone (text) VALUES (?)\n"
      },
      {
       "output_type": "stream",
       "stream": "stderr",
       "text": "INFO:sqlalchemy.engine.base.Engine:('chambre',)\n"
      },
      {
       "output_type": "stream",
       "stream": "stderr",
       "text": "INFO:sqlalchemy.engine.base.Engine:COMMIT\n"
      },
      {
       "output_type": "stream",
       "stream": "stdout",
       "text": "===========================\nIdentitySet([<Zone([DataObject(id='None', text='salon')])>, <Zone([DataObject(id='None', text='chambre')])>, <Zone([DataObject(id='None', text='cuisine')])>])\n===========================\n"
      }
     ],
     "prompt_number": 4
    },
    {
     "cell_type": "markdown",
     "metadata": {},
     "source": "Nous allons contr\u00f4ler que les objets ont bien \u00e9t\u00e9 ins\u00e9r\u00e9s. Pour cela nous ex\u00e9cutons une query sur la classe Zone.\nLa session est automatiquement r\u00e9-ouverte."
    },
    {
     "cell_type": "code",
     "collapsed": false,
     "input": "query = session.query(Zone)\nl = query.all()\nprint \"==================\"\nprint  l\nprint \"==================\"",
     "language": "python",
     "metadata": {},
     "outputs": [
      {
       "output_type": "stream",
       "stream": "stderr",
       "text": "INFO:sqlalchemy.engine.base.Engine:BEGIN (implicit)\n"
      },
      {
       "output_type": "stream",
       "stream": "stderr",
       "text": "INFO:sqlalchemy.engine.base.Engine:SELECT zone.id AS zone_id, zone.text AS zone_text \nFROM zone\n"
      },
      {
       "output_type": "stream",
       "stream": "stderr",
       "text": "INFO:sqlalchemy.engine.base.Engine:()\n"
      },
      {
       "output_type": "stream",
       "stream": "stdout",
       "text": "==================\n[<Zone([DataObject(id='1', text='salon')])>, <Zone([DataObject(id='2', text='cuisine')])>, <Zone([DataObject(id='3', text='chambre')])>]\n==================\n"
      }
     ],
     "prompt_number": 5
    },
    {
     "cell_type": "code",
     "collapsed": false,
     "input": "query2 = session.query(Zone).filter(Zone.text == 'cuisine')\ntry: \n    zone = query2.one()\n    print zone\nexcept MultipleResultsFound, e:\n    print e\n",
     "language": "python",
     "metadata": {},
     "outputs": [
      {
       "output_type": "stream",
       "stream": "stderr",
       "text": "INFO:sqlalchemy.engine.base.Engine:SELECT zone.id AS zone_id, zone.text AS zone_text \nFROM zone \nWHERE zone.text = ?\n"
      },
      {
       "output_type": "stream",
       "stream": "stderr",
       "text": "INFO:sqlalchemy.engine.base.Engine:('cuisine',)\n"
      },
      {
       "output_type": "stream",
       "stream": "stdout",
       "text": "<Zone([DataObject(id='2', text='cuisine')])>\n"
      }
     ],
     "prompt_number": 6
    },
    {
     "cell_type": "code",
     "collapsed": false,
     "input": "query3 = session.query(Zone).filter(Zone.text != 'cuisine')\ntry: \n    zone3 = query3.one()\n    print zone\nexcept MultipleResultsFound, e:\n    print e\n",
     "language": "python",
     "metadata": {},
     "outputs": [
      {
       "output_type": "stream",
       "stream": "stderr",
       "text": "INFO:sqlalchemy.engine.base.Engine:SELECT zone.id AS zone_id, zone.text AS zone_text \nFROM zone \nWHERE zone.text != ?\n"
      },
      {
       "output_type": "stream",
       "stream": "stderr",
       "text": "INFO:sqlalchemy.engine.base.Engine:('cuisine',)\n"
      },
      {
       "ename": "NameError",
       "evalue": "name 'MultipleResultsFound' is not defined",
       "output_type": "pyerr",
       "traceback": [
        "\u001b[0;31m---------------------------------------------------------------------------\u001b[0m\n\u001b[0;31mNameError\u001b[0m                                 Traceback (most recent call last)",
        "\u001b[0;32m<ipython-input-7-64f400a12204>\u001b[0m in \u001b[0;36m<module>\u001b[0;34m()\u001b[0m\n\u001b[1;32m      3\u001b[0m     \u001b[0mzone3\u001b[0m \u001b[0;34m=\u001b[0m \u001b[0mquery3\u001b[0m\u001b[0;34m.\u001b[0m\u001b[0mone\u001b[0m\u001b[0;34m(\u001b[0m\u001b[0;34m)\u001b[0m\u001b[0;34m\u001b[0m\u001b[0m\n\u001b[1;32m      4\u001b[0m     \u001b[0;32mprint\u001b[0m \u001b[0mzone\u001b[0m\u001b[0;34m\u001b[0m\u001b[0m\n\u001b[0;32m----> 5\u001b[0;31m \u001b[0;32mexcept\u001b[0m \u001b[0mMultipleResultsFound\u001b[0m\u001b[0;34m,\u001b[0m \u001b[0me\u001b[0m\u001b[0;34m:\u001b[0m\u001b[0;34m\u001b[0m\u001b[0m\n\u001b[0m\u001b[1;32m      6\u001b[0m     \u001b[0;32mprint\u001b[0m \u001b[0me\u001b[0m\u001b[0;34m\u001b[0m\u001b[0m\n",
        "\u001b[0;31mNameError\u001b[0m: name 'MultipleResultsFound' is not defined"
       ]
      }
     ],
     "prompt_number": 7
    },
    {
     "cell_type": "code",
     "collapsed": false,
     "input": "for z11 in  session.query(Zone).filter(Zone.text != 'cuisine') : \n    print z11\n",
     "language": "python",
     "metadata": {},
     "outputs": [
      {
       "output_type": "stream",
       "stream": "stderr",
       "text": "INFO:sqlalchemy.engine.base.Engine:SELECT zone.id AS zone_id, zone.text AS zone_text \nFROM zone \nWHERE zone.text != ?\n"
      },
      {
       "output_type": "stream",
       "stream": "stderr",
       "text": "INFO:sqlalchemy.engine.base.Engine:('cuisine',)\n"
      },
      {
       "output_type": "stream",
       "stream": "stdout",
       "text": "<Zone([DataObject(id='1', text='salon')])>\n<Zone([DataObject(id='3', text='chambre')])>\n"
      }
     ],
     "prompt_number": 8
    },
    {
     "cell_type": "code",
     "collapsed": false,
     "input": "zone = session.query(Zone).filter(Zone.text == 'cuisine').one()\nzone.text = 'new cuisine2'\nsession.add(zone)\ntry : \n    session.commit()\nexcept IntegrityError as e: \n    print e\nfinally : \n    session.close()\n\nprint session.query(Zone)",
     "language": "python",
     "metadata": {},
     "outputs": [
      {
       "output_type": "stream",
       "stream": "stderr",
       "text": "INFO:sqlalchemy.engine.base.Engine:SELECT zone.id AS zone_id, zone.text AS zone_text \nFROM zone \nWHERE zone.text = ?\n"
      },
      {
       "output_type": "stream",
       "stream": "stderr",
       "text": "INFO:sqlalchemy.engine.base.Engine:('cuisine',)\n"
      },
      {
       "output_type": "stream",
       "stream": "stderr",
       "text": "INFO:sqlalchemy.engine.base.Engine:UPDATE zone SET text=? WHERE zone.id = ?\n"
      },
      {
       "output_type": "stream",
       "stream": "stderr",
       "text": "INFO:sqlalchemy.engine.base.Engine:('new cuisine2', 2)\n"
      },
      {
       "output_type": "stream",
       "stream": "stderr",
       "text": "INFO:sqlalchemy.engine.base.Engine:COMMIT\n"
      },
      {
       "output_type": "stream",
       "stream": "stderr",
       "text": "INFO:sqlalchemy.engine.base.Engine:BEGIN (implicit)\n"
      },
      {
       "output_type": "stream",
       "stream": "stderr",
       "text": "INFO:sqlalchemy.engine.base.Engine:SELECT zone.id AS zone_id, zone.text AS zone_text \nFROM zone \nWHERE zone.text = ?\n"
      },
      {
       "output_type": "stream",
       "stream": "stderr",
       "text": "INFO:sqlalchemy.engine.base.Engine:('cuisine',)\n"
      },
      {
       "ename": "NameError",
       "evalue": "name 'MultipleResultsFound' is not defined",
       "output_type": "pyerr",
       "traceback": [
        "\u001b[0;31m---------------------------------------------------------------------------\u001b[0m\n\u001b[0;31mNameError\u001b[0m                                 Traceback (most recent call last)",
        "\u001b[0;32m<ipython-input-9-bad13f9526d2>\u001b[0m in \u001b[0;36m<module>\u001b[0;34m()\u001b[0m\n\u001b[1;32m     12\u001b[0m     \u001b[0mzone\u001b[0m \u001b[0;34m=\u001b[0m \u001b[0mquery2\u001b[0m\u001b[0;34m.\u001b[0m\u001b[0mone\u001b[0m\u001b[0;34m(\u001b[0m\u001b[0;34m)\u001b[0m\u001b[0;34m\u001b[0m\u001b[0m\n\u001b[1;32m     13\u001b[0m     \u001b[0;32mprint\u001b[0m \u001b[0mzone\u001b[0m\u001b[0;34m\u001b[0m\u001b[0m\n\u001b[0;32m---> 14\u001b[0;31m \u001b[0;32mexcept\u001b[0m \u001b[0mMultipleResultsFound\u001b[0m\u001b[0;34m,\u001b[0m \u001b[0me\u001b[0m\u001b[0;34m:\u001b[0m\u001b[0;34m\u001b[0m\u001b[0m\n\u001b[0m\u001b[1;32m     15\u001b[0m     \u001b[0;32mprint\u001b[0m \u001b[0me\u001b[0m\u001b[0;34m\u001b[0m\u001b[0m\n",
        "\u001b[0;31mNameError\u001b[0m: name 'MultipleResultsFound' is not defined"
       ]
      }
     ],
     "prompt_number": 9
    },
    {
     "cell_type": "code",
     "collapsed": false,
     "input": "",
     "language": "python",
     "metadata": {},
     "outputs": []
    }
   ],
   "metadata": {}
  }
 ]
}
